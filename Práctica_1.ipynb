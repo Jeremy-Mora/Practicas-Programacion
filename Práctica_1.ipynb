{
  "nbformat": 4,
  "nbformat_minor": 0,
  "metadata": {
    "colab": {
      "provenance": []
    },
    "kernelspec": {
      "name": "python3",
      "display_name": "Python 3"
    },
    "language_info": {
      "name": "python"
    }
  },
  "cells": [
    {
      "cell_type": "code",
      "execution_count": null,
      "metadata": {
        "colab": {
          "base_uri": "https://localhost:8080/"
        },
        "id": "0cKJPY-KAJ6c",
        "outputId": "d162e23c-f8c8-41e9-bedb-8f8d49aad1e9"
      },
      "outputs": [
        {
          "output_type": "stream",
          "name": "stdout",
          "text": [
            "¿Eh? Quizás deberías checar tus paréntesis...\n"
          ]
        }
      ],
      "source": [
        "import sys\n",
        "\n",
        "def Parentesis(p):\n",
        "  '''Funcion que revisa que una cadena de parentesis este bien hecha, es decir,\n",
        "   que a cada parentesis de apertura le corresponda un parentesis de cierre.\n",
        "   No acepta otro tipo de caracter que no sean parentesis.'''\n",
        "  grupopar=[]\n",
        "  PC=\"(\"\n",
        "  PF=\")\"\n",
        "  for i in p:\n",
        "    # Recorre toda la cadena.\n",
        "    if i!=PC and i!=PF:\n",
        "      sys.exit(\"Solo se aceptan parentesis: '(' y ')'\")\n",
        "      # Si detecta que no es un parentesis, termina el programa.\n",
        "  for i in p:\n",
        "    # Recorre toda la cadena de nuevo\n",
        "    if i==PC:\n",
        "      # Checa si el caracter es un parentesis de apertura\n",
        "      grupopar.append(i)\n",
        "      # Si ve que es un parentesis de apertura, lo agrega a la lista grupopar.\n",
        "    elif i==PF:\n",
        "      # Checa si el caracter es un parentesis de cierre.\n",
        "      if not grupopar:\n",
        "        return False\n",
        "        # Revisa si la lista esta vacia. Si ese es el caso, entonces la cadena esta mal formulada.\n",
        "      grupopar.pop()\n",
        "      # Si ve que es un parentesis de cierre, quita el parentesis de apertura mas reciente de la lista.\n",
        "  return not grupopar\n",
        "  # Si la lista esta vacia, devuelve un valor positivo.\n",
        "\n",
        "def main():\n",
        "  p=\"(()\"\n",
        "  if Parentesis(p):\n",
        "    # Si la lista esta vacia, entonces toda la cadena esta bien formulada.\n",
        "    print(\"¡Todo bien por aqui! :D\")\n",
        "  else:\n",
        "    # Sino, entonces algo fallo al plantear la cadena.\n",
        "    print(\"¿Eh? Quizas deberias checar tus parentesis...\")\n",
        "\n",
        "if __name__==\"__main__\":\n",
        "  main()"
      ]
    }
  ]
}